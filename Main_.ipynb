{
 "cells": [
  {
   "cell_type": "code",
   "execution_count": null,
   "id": "ffb8d18c-764e-40a4-891e-ce885c616e3e",
   "metadata": {},
   "outputs": [],
   "source": [
    "# First Notebook"
   ]
  },
  {
   "cell_type": "code",
   "execution_count": 1,
   "id": "099b7879-707d-46d0-aa73-0f9622b57f82",
   "metadata": {},
   "outputs": [],
   "source": [
    "import pandas as p"
   ]
  },
  {
   "cell_type": "code",
   "execution_count": 2,
   "id": "41ade8c4-13f3-49f8-8974-0a8000f3ac48",
   "metadata": {},
   "outputs": [
    {
     "name": "stdout",
     "output_type": "stream",
     "text": [
      "Hello from Jupyter Notebook!\n"
     ]
    }
   ],
   "source": [
    "print(\"Hello from Jupyter Notebook!\")"
   ]
  },
  {
   "cell_type": "code",
   "execution_count": null,
   "id": "19ed33e2-3c68-4535-9e55-b1c9cf05acc4",
   "metadata": {},
   "outputs": [],
   "source": []
  }
 ],
 "metadata": {
  "kernelspec": {
   "display_name": "Python 3 (ipykernel)",
   "language": "python",
   "name": "python3"
  },
  "language_info": {
   "codemirror_mode": {
    "name": "ipython",
    "version": 3
   },
   "file_extension": ".py",
   "mimetype": "text/x-python",
   "name": "python",
   "nbconvert_exporter": "python",
   "pygments_lexer": "ipython3",
   "version": "3.12.11"
  }
 },
 "nbformat": 4,
 "nbformat_minor": 5
}
